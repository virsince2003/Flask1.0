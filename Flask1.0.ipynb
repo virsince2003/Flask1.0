{
 "cells": [
  {
   "cell_type": "markdown",
   "id": "ebb5f1c3-e576-4183-8ba0-b3bbd7cb2af3",
   "metadata": {},
   "source": [
    "##### Q1. What is Flask Framework? What are the advantages of Flask Framework?"
   ]
  },
  {
   "cell_type": "markdown",
   "id": "b473a4f5-62ff-475c-9040-d7ece35938a3",
   "metadata": {},
   "source": [
    "Flask is a web framework for Python that is used to build web applications"
   ]
  },
  {
   "cell_type": "markdown",
   "id": "264f3e13-e680-413e-bee5-b2da435cec94",
   "metadata": {},
   "source": [
    "It is lightweight and considered the best framework for light web application serving.\n",
    "\n",
    "It is easy to understand and learn from, making it best for beginners.\n",
    "\n",
    "It has a built-in development server and a fast debugger provided."
   ]
  },
  {
   "cell_type": "markdown",
   "id": "c0cc3d14-9452-4273-931d-cde6b942c5c1",
   "metadata": {},
   "source": [
    "##### Q2. Create a simple Flask application to display ‘Hello World!!’."
   ]
  },
  {
   "cell_type": "code",
   "execution_count": null,
   "id": "bcb9f0c4-b0eb-4101-b121-31aaa7511d2a",
   "metadata": {},
   "outputs": [],
   "source": [
    "from flask import Flask\n",
    "\n",
    "app = Flask(__name__)\n",
    "\n",
    "@app.route(\"/\")\n",
    "def hello_world():\n",
    "    return \"<h1>Hello World!!</h1>\"\n",
    "\n",
    "if __name__==\"__main__\":\n",
    "    app.run(host=\"0.0.0.0\")\n"
   ]
  },
  {
   "cell_type": "markdown",
   "id": "01a04f45-8fec-4cc5-bd6a-81753fe25e59",
   "metadata": {},
   "source": [
    "##### Q3. What is App routing in Flask? Why do we use app routes?"
   ]
  },
  {
   "cell_type": "markdown",
   "id": "2c415745-11ca-482d-b7b3-0f6770557ec4",
   "metadata": {},
   "source": [
    "App routing in Flask refers to the process of mapping a URL to a specific function that handles what should be displayed to the user when they visit that URL. We use app routes to define the different pages or endpoints of our web application."
   ]
  },
  {
   "cell_type": "markdown",
   "id": "dab85177-62af-4b7b-b78d-606004605b00",
   "metadata": {},
   "source": [
    "##### Q4. Create a “/welcome” route to display the welcome message “Welcome to ABC Corporation” and a “/”route to show the following details:\n",
    "Company Name: ABC Corporation\n",
    "\n",
    "Location: India\n",
    "\n",
    "Contact Detail: 999-999-9999"
   ]
  },
  {
   "cell_type": "code",
   "execution_count": null,
   "id": "ad47ed6b-7e73-4032-b39b-44261a652f5f",
   "metadata": {},
   "outputs": [],
   "source": [
    "from flask import Flask\n",
    "\n",
    "app = Flask(__name__)\n",
    "\n",
    "@app.route(\"/welcome\")\n",
    "def hello():\n",
    "    return \"<h1>welcome to Abc corporations</h1>\"\n",
    "@app.route(\"/\")\n",
    "def classes():\n",
    "    return\"\"\"Company Name: ABC Corporation\n",
    "    Location: India\n",
    "    Contact Detail: 999-999-9999\"\"\"\n",
    "\n",
    "if __name__==\"__main__\":\n",
    "    app.run(host=\"0.0.0.0\")\n"
   ]
  },
  {
   "cell_type": "markdown",
   "id": "40eceac0-78a5-494e-a5c1-a48353ee1dbf",
   "metadata": {},
   "source": [
    "##### Q5. What function is used in Flask for URL Building? Write a Python code to demonstrate the working of theurl_for() function."
   ]
  },
  {
   "cell_type": "markdown",
   "id": "62704d6c-36d9-4aae-9a4f-1ed2c22e75e3",
   "metadata": {},
   "source": [
    "The function used in Flask for URL building is url_for(). Here is an example that demonstrates the working of the url_for() function."
   ]
  },
  {
   "cell_type": "code",
   "execution_count": null,
   "id": "f17d8986-9d7d-45c1-9666-a77119155e0a",
   "metadata": {},
   "outputs": [],
   "source": [
    "from flask import Flask, redirect, url_for\n",
    "app = Flask(__name__)\n",
    "\n",
    "@app.route('/')\n",
    "def hello_admin():\n",
    "   return 'Hello Admin'\n",
    "\n",
    "@app.route('/guest/<guest>')\n",
    "def hello_guest(guest):\n",
    "   return 'Hello %s as Guest' % guest\n",
    "\n",
    "@app.route('/user/<name>')\n",
    "def hello_user(name):\n",
    "   if name =='admin':\n",
    "      return redirect(url_for('hello_admin'))\n",
    "   else:\n",
    "      return redirect(url_for('hello_guest',guest = name))\n",
    "\n",
    "if __name__==\"__main__\":\n",
    "    app.run(host=\"0.0.0.0\")\n"
   ]
  },
  {
   "cell_type": "markdown",
   "id": "942963dd-351b-449e-8641-6eca2844096f",
   "metadata": {},
   "source": []
  }
 ],
 "metadata": {
  "kernelspec": {
   "display_name": "Python 3 (ipykernel)",
   "language": "python",
   "name": "python3"
  },
  "language_info": {
   "codemirror_mode": {
    "name": "ipython",
    "version": 3
   },
   "file_extension": ".py",
   "mimetype": "text/x-python",
   "name": "python",
   "nbconvert_exporter": "python",
   "pygments_lexer": "ipython3",
   "version": "3.10.8"
  }
 },
 "nbformat": 4,
 "nbformat_minor": 5
}
